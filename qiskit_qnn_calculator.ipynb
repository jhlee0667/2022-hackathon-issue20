{
 "cells": [
  {
   "cell_type": "markdown",
   "id": "2c7e1853-d0e3-475b-b7e0-ffd1bda99f94",
   "metadata": {},
   "source": [
    "# Quantum calculator\n",
    "## Team #20, 2022, hackathon\n",
    "\n",
    "We designed the addition calculator using quantum machine learning.\n",
    "To generate an input data, two random floating numbers (one pair) within [0,1] were generated.\n",
    "A target data was obtained from summation of the input data.\n",
    "\n",
    "Pytorch/qiskit packages are required for running this code."
   ]
  },
  {
   "cell_type": "code",
   "execution_count": 1,
   "id": "8df3fc3f-e0ca-45ed-b6d2-a6635da79626",
   "metadata": {},
   "outputs": [],
   "source": [
    "import numpy as np\n",
    "import pandas as pd\n",
    "import matplotlib.pyplot as plt\n",
    "\n",
    "import torch\n",
    "import torchvision\n",
    "import torch.nn as nn\n",
    "import torch.optim as optim\n",
    "import torch.nn.functional as F\n",
    "\n",
    "from torchvision import datasets\n",
    "from torch.utils import data\n",
    "\n",
    "from qiskit import Aer, QuantumCircuit, IBMQ\n",
    "from qiskit.utils import QuantumInstance, algorithm_globals\n",
    "from qiskit.opflow import AerPauliExpectation, PauliExpectation\n",
    "from qiskit.circuit.library import RealAmplitudes, ZZFeatureMap\n",
    "from qiskit_machine_learning.neural_networks import CircuitQNN, TwoLayerQNN\n",
    "from qiskit_machine_learning.connectors import TorchConnector\n",
    "from qiskit_machine_learning.runtime import TorchRuntimeClient, TorchRuntimeResult\n",
    "from qiskit.providers.ibmq import least_busy"
   ]
  },
  {
   "cell_type": "markdown",
   "id": "6f2308c3-2f19-4e3f-94e5-3043fb96d613",
   "metadata": {},
   "source": [
    "### Check/choose the device (CPU/GPU)"
   ]
  },
  {
   "cell_type": "code",
   "execution_count": 2,
   "id": "8c78db53-1fd0-4282-89ab-81e6d90670c2",
   "metadata": {},
   "outputs": [
    {
     "name": "stdout",
     "output_type": "stream",
     "text": [
      "CUDA: False\n"
     ]
    }
   ],
   "source": [
    "# checking that cuda is available or not\n",
    "USE_CUDA=torch.cuda.is_available()\n",
    "DEVICE=torch.device(\"cuda\" if USE_CUDA else \"cpu\")\n",
    "#DEVICE=torch.device(\"cpu\")\n",
    "print(\"CUDA: {}\".format(USE_CUDA))"
   ]
  },
  {
   "cell_type": "markdown",
   "id": "d93730f2-c91e-4806-8b3f-ab0ffebf3fb9",
   "metadata": {},
   "source": [
    "### Declare quantum simulator/quantum computer (local computer, IBM quantum computer, or IBM simulator)"
   ]
  },
  {
   "cell_type": "code",
   "execution_count": 3,
   "id": "525b6ef7-b60b-4b24-8cf5-03fa9b9c1fc0",
   "metadata": {},
   "outputs": [],
   "source": [
    "#### IBM quantum computer ####\n",
    "#IBMQ.save_account('--token--', overwrite = True)\n",
    "#IBMQ.load_account()\n",
    "#provider = IBMQ.get_provider(hub='ibm-q-education', group='ibm-3', project='korea-hackathon-')\n",
    "#provider = IBMQ.get_provider(hub='ibm-q', group='open', project='main')\n",
    "#qasm_sim = provider.backend.ibmq_manila\n",
    "#statevec_sim = provider.backend.simulator_statevector\n",
    "\n",
    "#qi = QuantumInstance(qasm_sim)\n",
    "\n",
    "#### local computer using Aer package ####\n",
    "qi = QuantumInstance(Aer.get_backend(\"aer_simulator_statevector\"))"
   ]
  },
  {
   "cell_type": "markdown",
   "id": "4f0036c8-1d7f-4777-8108-be24edc40e98",
   "metadata": {},
   "source": [
    "### Data generation"
   ]
  },
  {
   "cell_type": "code",
   "execution_count": 4,
   "id": "e539cd5a-7423-43d7-865a-72cf98d7f2c3",
   "metadata": {},
   "outputs": [],
   "source": [
    "### data generator\n",
    "class Data_gen(data.Dataset):\n",
    "    def __init__(self, list_IDs):\n",
    "        self.list_IDs = list_IDs\n",
    "\n",
    "    def __len__(self):\n",
    "        return len(self.list_IDs)\n",
    "\n",
    "    def __getitem__(self, index):\n",
    "        ID = self.list_IDs[index]\n",
    "        \n",
    "        inputs = torch.rand(1, 2)\n",
    "        target = torch.sum(inputs,dim=1)\n",
    "\n",
    "        return inputs, target"
   ]
  },
  {
   "cell_type": "code",
   "execution_count": 5,
   "id": "cfebc477-ce6f-460e-bbb2-e90f2d2e01b7",
   "metadata": {},
   "outputs": [],
   "source": [
    "## data loading setting ###\n",
    "params = {'batch_size': 1, 'shuffle': True}\n",
    "\n",
    "train_ID_set = range(1,10000) # generate 10,000 training data (it is large enough)\n",
    "test_ID_set = range(1,2000) # generate 2,000 training data (it is large enough)\n",
    "\n",
    "train_dataset = Data_gen(train_ID_set)\n",
    "test_dataset = Data_gen(test_ID_set)\n",
    "\n",
    "train_generator = data.DataLoader(train_dataset, **params)\n",
    "test_generator = data.DataLoader(test_dataset, **params)\n",
    "    "
   ]
  },
  {
   "cell_type": "markdown",
   "id": "8f210e46-dbf3-454e-9106-06add5650a40",
   "metadata": {},
   "source": [
    "### Define qnn model"
   ]
  },
  {
   "cell_type": "code",
   "execution_count": 6,
   "id": "75ab7db7-d7cd-4568-8819-e308e3836f93",
   "metadata": {},
   "outputs": [],
   "source": [
    "### Define QNN (reference: qiskit tutorial)\n",
    "# Set seed for random generators\n",
    "#algorithm_globals.random_seed = 42\n",
    "feature_map = ZZFeatureMap(2)\n",
    "ansatz = RealAmplitudes(2, reps=2)\n",
    "\n",
    "### for quantum computer\n",
    "#qnn = TwoLayerQNN(\n",
    "#    2, feature_map, ansatz, input_gradients=True, exp_val=PauliExpectation(), quantum_instance=qi #AerPauliExpectation()\n",
    "#)\n",
    "\n",
    "### for local simulation\n",
    "qnn = TwoLayerQNN(\n",
    "    2, feature_map, ansatz, input_gradients=True, exp_val=AerPauliExpectation(), quantum_instance=qi\n",
    ")"
   ]
  },
  {
   "cell_type": "markdown",
   "id": "ef34157f-254b-4349-b6b3-3a6ff514bfff",
   "metadata": {},
   "source": [
    "### Define framework of quantum calculator"
   ]
  },
  {
   "cell_type": "code",
   "execution_count": 7,
   "id": "bcd7193b-0422-4807-a204-299a22553b65",
   "metadata": {},
   "outputs": [],
   "source": [
    "class qnn_calculator(nn.Module):\n",
    "    def __init__(self):\n",
    "        super().__init__()\n",
    "        self.qnn = TorchConnector(qnn)  # Apply torch connector, weights chosen\n",
    "        self.fc2 = nn.Linear(1, 1)  \n",
    "        \n",
    "    def forward(self, x):\n",
    "        x = self.qnn(x)  # apply QNN\n",
    "        x = self.fc2(x)\n",
    "        \n",
    "        return x.view(-1)  \n",
    "    \n",
    "model = qnn_calculator().to(DEVICE)"
   ]
  },
  {
   "cell_type": "markdown",
   "id": "0d64e538-d74e-4648-aa8b-24a7f146882f",
   "metadata": {},
   "source": [
    "### Set parameters for traininig/testing"
   ]
  },
  {
   "cell_type": "code",
   "execution_count": 8,
   "id": "880719d4-d623-4501-b851-05acaf3d798b",
   "metadata": {},
   "outputs": [],
   "source": [
    "criterion = nn.MSELoss()\n",
    "optimizer = optim.Adam(model.parameters(), lr=0.005)\n",
    "epochs = 10;\n",
    "Ntrain_data = 200;\n",
    "Ntest_data = 50;"
   ]
  },
  {
   "cell_type": "markdown",
   "id": "48cbd139-a745-4d70-a4b2-8de1fcbce482",
   "metadata": {},
   "source": [
    "### Train/Test the model (local computer/ simulator)"
   ]
  },
  {
   "cell_type": "code",
   "execution_count": 9,
   "id": "f89782ab-c4b9-4cd1-9880-23310b3d66f2",
   "metadata": {
    "tags": []
   },
   "outputs": [
    {
     "name": "stdout",
     "output_type": "stream",
     "text": [
      "Epoch: 1/10..  Training Loss: 0.631..  Test Loss: 0.175..  L1 error: 0.346 \n",
      "Epoch: 2/10..  Training Loss: 0.085..  Test Loss: 0.077..  L1 error: 0.209 \n",
      "Epoch: 3/10..  Training Loss: 0.059..  Test Loss: 0.078..  L1 error: 0.220 \n",
      "Epoch: 4/10..  Training Loss: 0.057..  Test Loss: 0.049..  L1 error: 0.172 \n",
      "Epoch: 5/10..  Training Loss: 0.058..  Test Loss: 0.040..  L1 error: 0.164 \n",
      "Epoch: 6/10..  Training Loss: 0.061..  Test Loss: 0.069..  L1 error: 0.215 \n",
      "Epoch: 7/10..  Training Loss: 0.056..  Test Loss: 0.074..  L1 error: 0.210 \n",
      "Epoch: 8/10..  Training Loss: 0.067..  Test Loss: 0.059..  L1 error: 0.189 \n",
      "Epoch: 9/10..  Training Loss: 0.051..  Test Loss: 0.043..  L1 error: 0.163 \n",
      "Epoch: 10/10..  Training Loss: 0.052..  Test Loss: 0.049..  L1 error: 0.160 \n"
     ]
    }
   ],
   "source": [
    "train_losses, test_losses, accuracy_list = [], [], []\n",
    "\n",
    "for e in range(epochs):\n",
    "    running_loss = 0\n",
    "    j = 0\n",
    "    \n",
    "    for i, (inputs, targets) in enumerate(train_generator):        \n",
    "        inputs=inputs.view(-1,2)\n",
    "        targets=targets.view(-1)\n",
    "\n",
    "        if  j < Ntrain_data:\n",
    "            \n",
    "            optimizer.zero_grad()\n",
    "            output = model(inputs).float()\n",
    "            loss = criterion(output, targets.float())\n",
    "            loss.backward()\n",
    "            optimizer.step()\n",
    "\n",
    "            running_loss += loss.item()\n",
    "            \n",
    "            j= j + 1\n",
    "\n",
    "    else:\n",
    "        test_loss = 0\n",
    "        accuracy = 0\n",
    "\n",
    "        with torch.no_grad():\n",
    "            j = 0\n",
    "            \n",
    "            for i, (inputs, targets) in enumerate(test_generator):\n",
    "                inputs=inputs.view(-1,2)\n",
    "                targets=targets.view(-1)\n",
    "                \n",
    "                if  j < Ntest_data:\n",
    "                    output = model(inputs).float()\n",
    "                    test_loss += criterion(output, targets.float())\n",
    "                    refine_output = torch.round(output)\n",
    "                    accuracy=accuracy+torch.abs(output-torch.sum(inputs)).float()\n",
    "                                     \n",
    "                    j = j + 1\n",
    "        \n",
    "        train_losses.append(running_loss/Ntrain_data)\n",
    "        test_losses.append(test_loss/Ntest_data)\n",
    "        accuracy_list.append(accuracy[0]/Ntest_data)\n",
    "\n",
    "        print(\"Epoch: {}/{}.. \".format(e+1, epochs),\n",
    "              \"Training Loss: {:.3f}.. \".format(running_loss/Ntrain_data),\n",
    "              \"Test Loss: {:.3f}.. \".format(test_loss/Ntest_data),\n",
    "              \"L1 error: {:.3f} \".format(accuracy[0]/Ntest_data))"
   ]
  },
  {
   "cell_type": "markdown",
   "id": "462be9d5-aec7-4cb9-8845-1eeaaad0de7e",
   "metadata": {},
   "source": [
    "### train using qiskit runtime package (only for IBM quantum computer)"
   ]
  },
  {
   "cell_type": "code",
   "execution_count": null,
   "id": "fce1a19d-0624-4043-96f1-64d61d097d17",
   "metadata": {},
   "outputs": [],
   "source": [
    "torch_runtime_client = TorchRuntimeClient(\n",
    "    provider=provider,\n",
    "    model=model,\n",
    "    optimizer=optimizer,\n",
    "    loss_func=criterion,\n",
    "    epochs=epochs,\n",
    "    backend=qasm_sim,\n",
    ")\n",
    "\n",
    "fit_result = torch_runtime_client.fit(train_loader=train_generator, val_loader=test_generator)"
   ]
  },
  {
   "cell_type": "markdown",
   "id": "0a4ccf06-7e39-4a07-b593-c281e9839b4b",
   "metadata": {},
   "source": [
    "### Test the trained model"
   ]
  },
  {
   "cell_type": "code",
   "execution_count": 19,
   "id": "e8596bd5-57e9-4cd7-ad5c-e71396336f06",
   "metadata": {},
   "outputs": [
    {
     "name": "stdout",
     "output_type": "stream",
     "text": [
      "input: tensor([0.7413, 0.3332])\n",
      "ground_truth: 1.0745712518692017\n",
      "prediction: 1.139599084854126\n",
      "L1 error: 0.06502783298492432\n"
     ]
    }
   ],
   "source": [
    "input_test = torch.rand(1,2)[0] # generate input data randomly\n",
    "output = model(input_test).to(DEVICE) # run the trained model\n",
    "\n",
    "print('input: {}'.format(input_test))\n",
    "print('ground_truth: {}'.format(torch.sum(input_test)))\n",
    "print('prediction: {}'.format(output[0]))\n",
    "print('L1 error: {}'.format(torch.abs(output-torch.sum(input_test))[0]))"
   ]
  },
  {
   "cell_type": "markdown",
   "id": "3fb0a4c2-dada-4bf3-96a8-08cb23a19e84",
   "metadata": {},
   "source": [
    "### Plot the loss"
   ]
  },
  {
   "cell_type": "code",
   "execution_count": 14,
   "id": "e64a5aa2-3328-4366-9ca3-8ce84ede4509",
   "metadata": {},
   "outputs": [
    {
     "data": {
      "text/plain": [
       "<matplotlib.legend.Legend at 0x2b1a664f7d00>"
      ]
     },
     "execution_count": 14,
     "metadata": {},
     "output_type": "execute_result"
    },
    {
     "data": {
      "image/png": "[encoded data removed]",
      "text/plain": [
       "<Figure size 432x288 with 1 Axes>"
      ]
     },
     "metadata": {
      "image/png": {
       "height": 248,
       "width": 372
      },
      "needs_background": "light"
     },
     "output_type": "display_data"
    }
   ],
   "source": [
    "%matplotlib inline\n",
    "%config InlineBackend.figure_format='retina'\n",
    "\n",
    "import matplotlib.pyplot as plt\n",
    "\n",
    "plt.plot(train_losses, label='training loss')\n",
    "plt.plot(test_losses, label='Validation loss')\n",
    "plt.plot(accuracy_list, label='L1 error')\n",
    "plt.legend(frameon=False)"
   ]
  },
  {
   "cell_type": "code",
   "execution_count": null,
   "id": "a7f309f5-fe59-4969-82f4-375b99012dc3",
   "metadata": {},
   "outputs": [],
   "source": []
  }
 ],
 "metadata": {
  "kernelspec": {
   "display_name": "qiskit",
   "language": "python",
   "name": "qiskit"
  },
  "language_info": {
   "codemirror_mode": {
    "name": "ipython",
    "version": 3
   },
   "file_extension": ".py",
   "mimetype": "text/x-python",
   "name": "python",
   "nbconvert_exporter": "python",
   "pygments_lexer": "ipython3",
   "version": "3.9.7"
  }
 },
 "nbformat": 4,
 "nbformat_minor": 5
}
