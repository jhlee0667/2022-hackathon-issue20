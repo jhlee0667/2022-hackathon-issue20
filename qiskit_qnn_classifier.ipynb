{
 "cells": [
  {
   "cell_type": "markdown",
   "id": "ec4d13bc-c616-4906-bf7c-d5d10a896573",
   "metadata": {},
   "source": [
    "# Quantum machine learning based image classifier \n",
    "## Team #20, 2022, hackathon\n",
    "\n",
    "We designed the image classifier using quantum machine learning.\n",
    "An input/target data were obtained from fashion-MNIST.\n",
    "The data with label 0(T-shirt/top) and 1(Trouser) was only used for this code.\n",
    "\n",
    "Pytorch/qiskit packages are required for running this code.\n",
    "\n",
    "Reference: qiskit tutorials (https://qiskit.org/documentation/machine-learning/tutorials/05_torch_connector.html)"
   ]
  },
  {
   "cell_type": "code",
   "execution_count": 1,
   "id": "4cf7dba8-7660-41a0-a115-eabc01ae75f2",
   "metadata": {},
   "outputs": [],
   "source": [
    "import numpy as np\n",
    "import pandas as pd\n",
    "import matplotlib.pyplot as plt\n",
    "\n",
    "import torch\n",
    "import torch.nn as nn\n",
    "import torch.optim as optim\n",
    "import torch.nn.functional as F\n",
    "import torchvision\n",
    "\n",
    "from torchvision import datasets, transforms\n",
    "from torch.utils.data import Dataset, DataLoader\n",
    "from sklearn.metrics import confusion_matrix\n",
    "\n",
    "from qiskit import Aer, QuantumCircuit\n",
    "from qiskit.utils import QuantumInstance, algorithm_globals\n",
    "from qiskit.opflow import AerPauliExpectation\n",
    "from qiskit.circuit import Parameter\n",
    "from qiskit.circuit.library import RealAmplitudes, ZZFeatureMap\n",
    "from qiskit_machine_learning.neural_networks import CircuitQNN, TwoLayerQNN\n",
    "from qiskit_machine_learning.connectors import TorchConnector"
   ]
  },
  {
   "cell_type": "markdown",
   "id": "c6a812d5-0088-4591-a1ef-c333e789d88b",
   "metadata": {},
   "source": [
    "### Check/Choose the device (CPU/GPU)"
   ]
  },
  {
   "cell_type": "code",
   "execution_count": 2,
   "id": "47e26d83-31fd-4828-8cdc-7d93f3d679e2",
   "metadata": {},
   "outputs": [
    {
     "name": "stdout",
     "output_type": "stream",
     "text": [
      "CUDA: False\n"
     ]
    }
   ],
   "source": [
    "# checking that cuda is available or not\n",
    "USE_CUDA=torch.cuda.is_available()\n",
    "DEVICE=torch.device(\"cuda\" if USE_CUDA else \"cpu\")\n",
    "#DEVICE=torch.device(\"cpu\")\n",
    "print(\"CUDA: {}\".format(USE_CUDA))"
   ]
  },
  {
   "cell_type": "markdown",
   "id": "4a81a42f-dc70-40d3-97b7-980b1fd088a0",
   "metadata": {},
   "source": [
    "### Declare quantum simulator/quantum computer (local computer, IBM quantum computer, or IBM simulator)"
   ]
  },
  {
   "cell_type": "code",
   "execution_count": 3,
   "id": "dbfa9a35-471a-4ae4-9a33-eb159292f860",
   "metadata": {},
   "outputs": [],
   "source": [
    "#### IBM quantum computer ####\n",
    "#IBMQ.save_account('--token--', overwrite = True)\n",
    "#IBMQ.load_account()\n",
    "#provider = IBMQ.get_provider(hub='ibm-q-education', group='ibm-3', project='korea-hackathon-')\n",
    "#provider = IBMQ.get_provider(hub='ibm-q', group='open', project='main')\n",
    "#qasm_sim = provider.backend.ibmq_manila\n",
    "#statevec_sim = provider.backend.simulator_statevector\n",
    "\n",
    "#qi = QuantumInstance(qasm_sim)\n",
    "\n",
    "#### local computer using Aer package ####\n",
    "qi = QuantumInstance(Aer.get_backend(\"aer_simulator_statevector\"))"
   ]
  },
  {
   "cell_type": "markdown",
   "id": "d6bd60d9-2839-409e-9557-949678c70113",
   "metadata": {},
   "source": [
    "### Data acquistion from fashion-MNIST"
   ]
  },
  {
   "cell_type": "code",
   "execution_count": 4,
   "id": "5697d6d3-2d9c-40b8-9920-9d7a2a69ca7d",
   "metadata": {
    "tags": []
   },
   "outputs": [],
   "source": [
    "# Define a transform to normalize the data\n",
    "transform = transforms.Compose([transforms.ToTensor(),\n",
    "                                transforms.Normalize((0.5), (0.5))])\n",
    "\n",
    "# Download and load the training data\n",
    "trainset = datasets.FashionMNIST('./F_MNIST_data/', download=True, train=True, transform=transform)\n",
    "# Download and load the test data\n",
    "testset = datasets.FashionMNIST('./F_MNIST_data/', download=True, train=False, transform=transform)"
   ]
  },
  {
   "cell_type": "code",
   "execution_count": 5,
   "id": "5d901f7d-1696-4b82-9e7e-48a362de22b8",
   "metadata": {},
   "outputs": [],
   "source": [
    "### define sampler (extract only data with label 0[T-shirt/top] and 1[trouser])\n",
    "class Sampler_for_MNIST(torch.utils.data.sampler.Sampler):\n",
    "    def __init__(self, mask, data_source):\n",
    "        self.mask = mask\n",
    "        self.data_source = data_source\n",
    "\n",
    "    def __iter__(self):\n",
    "        return iter([i.item() for i in torch.nonzero(self.mask)])\n",
    "\n",
    "    def __len__(self):\n",
    "        return len(self.data_source)\n",
    "    \n",
    "mask_train = [1 if (trainset[i][1] == 0) | (trainset[i][1] == 1) else 0 for i in range(len(trainset))]\n",
    "mask_train = torch.tensor(mask_train)\n",
    "\n",
    "mask_test = [1 if (testset[i][1] == 0) | (testset[i][1] == 1) else 0 for i in range(len(testset))]\n",
    "mask_test = torch.tensor(mask_test)\n",
    "\n",
    "# extract the data from whole train/test dataset\n",
    "sampler_train = Sampler_for_MNIST(mask_train,trainset)\n",
    "sampler_test = Sampler_for_MNIST(mask_test,testset)\n",
    "\n",
    "# define the data loader\n",
    "batch_size=4\n",
    "train_loader = torch.utils.data.DataLoader(trainset, batch_size=batch_size, sampler=sampler_train, shuffle=False)\n",
    "test_loader = torch.utils.data.DataLoader(testset, batch_size=batch_size, sampler=sampler_test, shuffle=False)"
   ]
  },
  {
   "cell_type": "markdown",
   "id": "fa27cd8a-2488-4dca-bcca-3f56e55ff63e",
   "metadata": {},
   "source": [
    "### Define a function to check the image"
   ]
  },
  {
   "cell_type": "code",
   "execution_count": 6,
   "id": "1b2531e2-6520-4116-96b6-598717deca4f",
   "metadata": {},
   "outputs": [],
   "source": [
    "def imshow(image, ax=None, title=None, normalize=True):\n",
    "    if ax is None:\n",
    "        fig, ax = plt.subplots()\n",
    "    image = image.numpy().transpose((1, 2, 0))\n",
    "\n",
    "    if normalize:\n",
    "        mean = np.array([0.485, 0.456, 0.406])\n",
    "        std = np.array([0.229, 0.224, 0.225])\n",
    "        image = std * image + mean\n",
    "        image = np.clip(image, 0, 1)\n",
    "\n",
    "    ax.imshow(image)\n",
    "    ax.spines['top'].set_visible(False)\n",
    "    ax.spines['right'].set_visible(False)\n",
    "    ax.spines['left'].set_visible(False)\n",
    "    ax.spines['bottom'].set_visible(False)\n",
    "    ax.tick_params(axis='both', length=0)\n",
    "    ax.set_xticklabels('')\n",
    "    ax.set_yticklabels('')\n",
    "\n",
    "    return ax"
   ]
  },
  {
   "cell_type": "markdown",
   "id": "c68f6b09-1583-4cbe-976d-e6e9aba5f078",
   "metadata": {},
   "source": [
    "### Define qnn model"
   ]
  },
  {
   "cell_type": "code",
   "execution_count": 7,
   "id": "f039ade8-5567-459a-a6b0-f3febdc12396",
   "metadata": {},
   "outputs": [],
   "source": [
    "### Define QNN (reference: qiskit tutorial)\n",
    "# Set seed for random generators\n",
    "#algorithm_globals.random_seed = 42\n",
    "feature_map = ZZFeatureMap(2)\n",
    "ansatz = RealAmplitudes(2, reps=2)\n",
    "\n",
    "### for quantum computer\n",
    "#qnn = TwoLayerQNN(\n",
    "#    2, feature_map, ansatz, input_gradients=True, exp_val=PauliExpectation(), quantum_instance=qi #AerPauliExpectation()\n",
    "#)\n",
    "\n",
    "### for local simulation\n",
    "qnn = TwoLayerQNN(\n",
    "    2, feature_map, ansatz, input_gradients=True, exp_val=AerPauliExpectation(), quantum_instance=qi\n",
    ")"
   ]
  },
  {
   "cell_type": "markdown",
   "id": "4719dc34-7c0f-4735-b5c6-1c7802d42e2b",
   "metadata": {},
   "source": [
    "### Define framework of quantum machine learning based image classifier"
   ]
  },
  {
   "cell_type": "code",
   "execution_count": 8,
   "id": "3f4c5909-ddf6-4dc4-8b08-fec122d19d9b",
   "metadata": {},
   "outputs": [],
   "source": [
    "class qnn_classifier(nn.Module):\n",
    "    def __init__(self):\n",
    "        super().__init__()\n",
    "        self.conv1 = nn.Conv2d(1, 2, kernel_size=5)\n",
    "        self.conv2 = nn.Conv2d(2, 16, kernel_size=5)\n",
    "        self.dropout = nn.Dropout2d()\n",
    "        self.fc1 = nn.Linear(256, 128)\n",
    "        self.fc2 = nn.Linear(128, 64)\n",
    "        self.fc3 = nn.Linear(64, 2)  \n",
    "        self.qnn = TorchConnector(qnn)  # Apply torch connector, weights chosen\n",
    "        self.fc4 = nn.Linear(1, 1) \n",
    "        self.sigmoid = nn.Sigmoid()\n",
    "\n",
    "    def forward(self, x):\n",
    "        x = F.relu(self.conv1(x))\n",
    "        x = F.max_pool2d(x, 2)\n",
    "        x = F.relu(self.conv2(x))\n",
    "        x = F.max_pool2d(x, 2)\n",
    "        x = self.dropout(x)\n",
    "        x = x.view(x.shape[0], -1)\n",
    "        x = F.relu(self.fc1(x))\n",
    "        x = self.fc2(x)\n",
    "        x = self.fc3(x)\n",
    "        x = self.qnn(x)  # apply QNN\n",
    "        x = self.fc4(x)\n",
    "        x = self.sigmoid(x)\n",
    "        \n",
    "        return x.view(-1)\n",
    "    \n",
    "model = qnn_classifier().to(DEVICE)"
   ]
  },
  {
   "cell_type": "markdown",
   "id": "df45c866-87ca-4731-8297-a5480bcf95c3",
   "metadata": {},
   "source": [
    "### Set parameters for traininig/testing"
   ]
  },
  {
   "cell_type": "code",
   "execution_count": 9,
   "id": "9dbb5659-e6b4-4b1a-a020-a56a9c7635af",
   "metadata": {},
   "outputs": [],
   "source": [
    "criterion = nn.MSELoss()\n",
    "optimizer = optim.Adam(model.parameters(), lr=0.005)\n",
    "epochs = 5;\n",
    "Ntrain_data = 100;\n",
    "Ntest_data = 20;"
   ]
  },
  {
   "cell_type": "markdown",
   "id": "08b810e1-0e83-48db-9f7f-30b788e83267",
   "metadata": {},
   "source": [
    "### Train/Test the model (local computer/simulator)"
   ]
  },
  {
   "cell_type": "code",
   "execution_count": 10,
   "id": "d198518c-df9d-4ecf-8f5f-014f32a728cd",
   "metadata": {},
   "outputs": [
    {
     "name": "stdout",
     "output_type": "stream",
     "text": [
      "Epoch: 1/5..  Training Loss: 0.233..  Test Loss: 0.189..  Accuracy: 0.825\n",
      "Epoch: 2/5..  Training Loss: 0.207..  Test Loss: 0.216..  Accuracy: 0.775\n",
      "Epoch: 3/5..  Training Loss: 0.171..  Test Loss: 0.151..  Accuracy: 0.863\n",
      "Epoch: 4/5..  Training Loss: 0.126..  Test Loss: 0.099..  Accuracy: 0.962\n",
      "Epoch: 5/5..  Training Loss: 0.098..  Test Loss: 0.060..  Accuracy: 0.975\n"
     ]
    }
   ],
   "source": [
    "train_losses, test_losses, accuracy_list = [], [], []\n",
    "\n",
    "for e in range(epochs):\n",
    "    running_loss = 0\n",
    "    j = 0\n",
    "    for i, (images, labels) in enumerate(train_loader):        \n",
    "        \n",
    "        if  j < Ntrain_data:\n",
    "            optimizer.zero_grad()\n",
    "\n",
    "            output = model(images).float()\n",
    "            loss = criterion(output, labels.float())\n",
    "            loss.backward()\n",
    "            optimizer.step()\n",
    "\n",
    "            running_loss += loss.item()\n",
    "            j = j + 1\n",
    "\n",
    "    else:\n",
    "        test_loss = 0\n",
    "        accuracy = 0\n",
    "\n",
    "        with torch.no_grad():\n",
    "            j=0\n",
    "            accuracy=0\n",
    "            for i, (images, labels) in enumerate(test_loader):\n",
    "                \n",
    "                if  j < Ntest_data:\n",
    "                    output = model(images).float()\n",
    "                    test_loss += criterion(output, labels.float())\n",
    "                    \n",
    "                    refine_output = torch.round(output)\n",
    "                    \n",
    "                    accuracy = accuracy + torch.sum(refine_output-labels==0)\n",
    "                                     \n",
    "                    j = j + 1\n",
    "\n",
    "        train_losses.append(running_loss/Ntrain_data)\n",
    "        test_losses.append(test_loss/Ntest_data)\n",
    "        accuracy_list.append(accuracy/(Ntest_data*batch_size))\n",
    "\n",
    "        print(\"Epoch: {}/{}.. \".format(e+1, epochs),\n",
    "              \"Training Loss: {:.3f}.. \".format(running_loss/Ntrain_data),\n",
    "              \"Test Loss: {:.3f}.. \".format(test_loss/Ntest_data),\n",
    "              \"Accuracy: {:.3f}\".format(accuracy/(Ntest_data*batch_size)))"
   ]
  },
  {
   "cell_type": "markdown",
   "id": "6bf36813-10e9-4fb4-9b16-d03dbff2c7cd",
   "metadata": {},
   "source": [
    "### Train using qiskit runtime package (only for IBM quantum computer)"
   ]
  },
  {
   "cell_type": "code",
   "execution_count": null,
   "id": "6fb01fe9-73e8-461f-8e02-df3ba808fcee",
   "metadata": {},
   "outputs": [],
   "source": [
    "torch_runtime_client = TorchRuntimeClient(\n",
    "    provider=provider,\n",
    "    model=model,\n",
    "    optimizer=optimizer,\n",
    "    loss_func=criterion,\n",
    "    epochs=epochs,\n",
    "    backend=qasm_sim,\n",
    ")\n",
    "\n",
    "fit_result = torch_runtime_client.fit(train_loader=train_generator, val_loader=test_generator)"
   ]
  },
  {
   "cell_type": "markdown",
   "id": "aac9efed-76e4-4269-b065-3968cd37f996",
   "metadata": {},
   "source": [
    "### Test the trained model"
   ]
  },
  {
   "cell_type": "code",
   "execution_count": 14,
   "id": "af820207-f08c-4020-a07e-c02403f11c54",
   "metadata": {},
   "outputs": [
    {
     "name": "stdout",
     "output_type": "stream",
     "text": [
      "ground truth: 1\n",
      "prediction  : 1\n"
     ]
    },
    {
     "data": {
      "image/png": "[encoded data removed]",
      "text/plain": [
       "<Figure size 432x288 with 1 Axes>"
      ]
     },
     "metadata": {
      "needs_background": "light"
     },
     "output_type": "display_data"
    }
   ],
   "source": [
    "# result \n",
    "test_N_image=10\n",
    "\n",
    "#sample_list=np.where(testset.test_labels==0)  # testset_list for label 0 (T-shirt/top)\n",
    "sample_list=np.where(testset.test_labels==1) # testset_list for label 1 (trouser)\n",
    "image=testset[sample_list[0][test_N_image]][0]\n",
    "label=testset[sample_list[0][test_N_image]][1]\n",
    "output = model(image.view(-1,1,28,28))\n",
    "\n",
    "imshow(image);\n",
    "\n",
    "print('ground truth: {}'.format(label))\n",
    "print('prediction  : {}'.format(torch.round(output)[0].int()))"
   ]
  },
  {
   "cell_type": "markdown",
   "id": "34373a95-6ac2-444c-8784-85a6c612eded",
   "metadata": {},
   "source": [
    "### Plot the loss"
   ]
  },
  {
   "cell_type": "code",
   "execution_count": 15,
   "id": "1c7a2440-ddcd-48cb-a723-57f7bb24623e",
   "metadata": {},
   "outputs": [
    {
     "data": {
      "text/plain": [
       "<matplotlib.legend.Legend at 0x2b5bec484b80>"
      ]
     },
     "execution_count": 15,
     "metadata": {},
     "output_type": "execute_result"
    },
    {
     "data": {
      "image/png": "[encoded data removed]",
      "text/plain": [
       "<Figure size 432x288 with 1 Axes>"
      ]
     },
     "metadata": {
      "image/png": {
       "height": 261,
       "width": 398
      },
      "needs_background": "light"
     },
     "output_type": "display_data"
    }
   ],
   "source": [
    "%matplotlib inline\n",
    "%config InlineBackend.figure_format='retina'\n",
    "\n",
    "import matplotlib.pyplot as plt\n",
    "\n",
    "plt.plot(train_losses, label='training loss')\n",
    "plt.plot(test_losses, label='Validation loss')\n",
    "plt.ylabel('loss')\n",
    "plt.xlabel('epochs')\n",
    "plt.legend(frameon=False)"
   ]
  },
  {
   "cell_type": "markdown",
   "id": "3a16b531-636f-495e-8807-45f9b9c728f2",
   "metadata": {},
   "source": [
    "### Plot the accuracy"
   ]
  },
  {
   "cell_type": "code",
   "execution_count": 16,
   "id": "2d3ea036-f66e-470a-9ca8-408f6acf9e45",
   "metadata": {},
   "outputs": [
    {
     "data": {
      "text/plain": [
       "Text(0.5, 0, 'epochs')"
      ]
     },
     "execution_count": 16,
     "metadata": {},
     "output_type": "execute_result"
    },
    {
     "data": {
      "image/png": "[encoded data removed]",
      "text/plain": [
       "<Figure size 432x288 with 1 Axes>"
      ]
     },
     "metadata": {
      "image/png": {
       "height": 261,
       "width": 398
      },
      "needs_background": "light"
     },
     "output_type": "display_data"
    }
   ],
   "source": [
    "plt.plot(accuracy_list, label='accuracy')\n",
    "plt.legend(frameon=False)\n",
    "plt.ylabel('accuracy(%)')\n",
    "plt.xlabel('epochs')"
   ]
  },
  {
   "cell_type": "code",
   "execution_count": null,
   "id": "00e68440-5298-425e-a93e-0b6e56e8f1c3",
   "metadata": {},
   "outputs": [],
   "source": []
  }
 ],
 "metadata": {
  "kernelspec": {
   "display_name": "qiskit",
   "language": "python",
   "name": "qiskit"
  },
  "language_info": {
   "codemirror_mode": {
    "name": "ipython",
    "version": 3
   },
   "file_extension": ".py",
   "mimetype": "text/x-python",
   "name": "python",
   "nbconvert_exporter": "python",
   "pygments_lexer": "ipython3",
   "version": "3.9.7"
  }
 },
 "nbformat": 4,
 "nbformat_minor": 5
}
